{
  "cells": [
    {
      "cell_type": "markdown",
      "metadata": {
        "id": "view-in-github",
        "colab_type": "text"
      },
      "source": [
        "<a href=\"https://colab.research.google.com/github/fourfeatherz/DS2002S25/blob/main/python/hello_world_json.ipynb\" target=\"_parent\"><img src=\"https://colab.research.google.com/assets/colab-badge.svg\" alt=\"Open In Colab\"/></a>"
      ]
    },
    {
      "cell_type": "markdown",
      "metadata": {
        "id": "TNYqCedC62Xq"
      },
      "source": [
        "# Basic Python Commands and Statements\n",
        "\n",
        "This notebook demonstrates some basic Python commands and statements such as printing output, variable assignment, arithmetic operations, control flow, loops, functions, and working with lists."
      ]
    },
    {
      "cell_type": "code",
      "execution_count": null,
      "metadata": {
        "id": "lHluXdP462Xr"
      },
      "outputs": [],
      "source": [
        "# Print a simple message\n",
        "print('Hello, World!')"
      ]
    },
    {
      "cell_type": "markdown",
      "metadata": {
        "id": "HW8ucG5L62Xs"
      },
      "source": [
        "## Variables and Arithmetic"
      ]
    },
    {
      "cell_type": "code",
      "execution_count": null,
      "metadata": {
        "id": "6s_VycHn62Xs"
      },
      "outputs": [],
      "source": [
        "# Variable assignment\n",
        "a = 10\n",
        "b = 20\n",
        "\n",
        "# Arithmetic operations\n",
        "sum_result = a + b\n",
        "diff_result = b - a\n",
        "prod_result = a * b\n",
        "div_result = b / a\n",
        "\n",
        "print('Sum:', sum_result)\n",
        "print('Difference:', diff_result)\n",
        "print('Product:', prod_result)\n",
        "print('Division:', div_result)"
      ]
    },
    {
      "cell_type": "markdown",
      "metadata": {
        "id": "3d-pcVy162Xs"
      },
      "source": [
        "## Control Flow: If/Else Statement"
      ]
    },
    {
      "cell_type": "code",
      "execution_count": null,
      "metadata": {
        "id": "rPbBw74a62Xs"
      },
      "outputs": [],
      "source": [
        "x = 15\n",
        "if x > 10:\n",
        "    print('x is greater than 10')\n",
        "else:\n",
        "    print('x is not greater than 10')"
      ]
    },
    {
      "cell_type": "markdown",
      "metadata": {
        "id": "Kr5QJrUI62Xt"
      },
      "source": [
        "## Loops: For and While"
      ]
    },
    {
      "cell_type": "code",
      "execution_count": null,
      "metadata": {
        "id": "csZiKPw062Xt"
      },
      "outputs": [],
      "source": [
        "# For loop example\n",
        "print('For loop:')\n",
        "for i in range(5):\n",
        "    print(i)\n",
        "\n",
        "# While loop example\n",
        "print('\\nWhile loop:')\n",
        "count = 0\n",
        "while count < 5:\n",
        "    print(count)\n",
        "    count += 1"
      ]
    },
    {
      "cell_type": "markdown",
      "metadata": {
        "id": "ABZcYBsY62Xt"
      },
      "source": [
        "## Functions: Defining and Calling a Function"
      ]
    },
    {
      "cell_type": "code",
      "execution_count": null,
      "metadata": {
        "id": "nBPC7dzM62Xt"
      },
      "outputs": [],
      "source": [
        "def greet(name):\n",
        "    return f'Hello, {name}!'\n",
        "\n",
        "message = greet('Alice')\n",
        "print(message)"
      ]
    },
    {
      "cell_type": "markdown",
      "metadata": {
        "id": "ry6vkpuN62Xt"
      },
      "source": [
        "## Lists and List Comprehensions"
      ]
    },
    {
      "cell_type": "code",
      "execution_count": null,
      "metadata": {
        "id": "wqB699TH62Xt"
      },
      "outputs": [],
      "source": [
        "# Define a list of numbers\n",
        "numbers = [1, 2, 3, 4, 5]\n",
        "\n",
        "# Create a new list with squares of the original numbers using list comprehension\n",
        "squares = [n**2 for n in numbers]\n",
        "\n",
        "print('Original numbers:', numbers)\n",
        "print('Squares:', squares)"
      ]
    }
  ],
  "metadata": {
    "colab": {
      "provenance": [],
      "include_colab_link": true
    },
    "kernelspec": {
      "display_name": "Python 3",
      "language": "python",
      "name": "python3"
    },
    "language_info": {
      "name": "python",
      "version": "3.x"
    }
  },
  "nbformat": 4,
  "nbformat_minor": 0
}