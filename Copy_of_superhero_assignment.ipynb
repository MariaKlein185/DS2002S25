{
  "cells": [
    {
      "cell_type": "markdown",
      "metadata": {
        "id": "view-in-github",
        "colab_type": "text"
      },
      "source": [
        "<a href=\"https://colab.research.google.com/github/MariaKlein185/DS2002S25/blob/main/Copy_of_superhero_assignment.ipynb\" target=\"_parent\"><img src=\"https://colab.research.google.com/assets/colab-badge.svg\" alt=\"Open In Colab\"/></a>"
      ]
    },
    {
      "cell_type": "markdown",
      "id": "5fa8dcf6",
      "metadata": {
        "id": "5fa8dcf6"
      },
      "source": [
        "# Superhero Database Assignment (SQLite & Google Colab)\n",
        "\n",
        "## Objective\n",
        "In this assignment, you will design and implement a **Superhero Database** using SQLite in Google Colab. This database will store superheroes, villains, and their battles. You will write SQL queries to analyze battle outcomes and relationships between heroes and villains.\n",
        "\n",
        "### Group Size:\n",
        "- 2 to 3 students per group.\n",
        "\n",
        "### Tools Required:\n",
        "- **Google Colab**\n",
        "- **SQLite (built into Python)**\n",
        "- **CSV files (provided for import)**"
      ]
    },
    {
      "cell_type": "markdown",
      "id": "5535e625",
      "metadata": {
        "id": "5535e625"
      },
      "source": [
        "## Step 1: Setting Up Your SQLite Database\n",
        "\n",
        "### Tasks:\n",
        "1. Initialize SQLite in Google Colab.\n",
        "2. Create a database named `superhero_db.sqlite`.\n",
        "3. Define the database schema, ensuring it includes the following tables:\n",
        "   - `heroes`: Stores superhero names, powers, and teams.\n",
        "   - `villains`: Stores villains and their evil plans.\n",
        "   - `battles`: Tracks battles between heroes and villains, including the outcome.\n",
        "4. Implement primary keys and foreign keys where appropriate.\n",
        "\n",
        "✅ **Checkpoint:** Ensure that the database and tables have been successfully created."
      ]
    },
    {
      "cell_type": "code",
      "source": [
        "#Initializing SQLite\n",
        "import sqlite3\n",
        "\n",
        "#creating database\n",
        "connection = sqlite3.connect('superhero_db.sqlite')\n",
        "\n",
        "# Check if the connection was successful\n",
        "print(\"Database created and connected!\")\n",
        "\n",
        "# Create a cursor object\n",
        "cursor = connection.cursor()\n",
        "\n",
        "print(\"Cursor created!\")\n",
        "\n",
        "# Create the heroes table\n",
        "cursor.execute('''\n",
        "CREATE TABLE IF NOT EXISTS heroes (\n",
        "    id INTEGER PRIMARY KEY AUTOINCREMENT,\n",
        "    name TEXT NOT NULL,\n",
        "    power TEXT NOT NULL,\n",
        "    team TEXT NOT NULL\n",
        ")\n",
        "''')\n",
        "\n",
        "print(\"Heroes table created!\")\n",
        "\n",
        "#Create villains table\n",
        "cursor.execute('''\n",
        "CREATE TABLE IF NOT EXISTS villians (\n",
        "    id INTEGER PRIMARY KEY AUTOINCREMENT,\n",
        "    name TEXT NOT NULL,\n",
        "    evil_plan TEXT NOT NULL\n",
        ")\n",
        "''')\n",
        "\n",
        "print(\"Villians table created!\")\n",
        "\n",
        "#Create battles table\n",
        "cursor.execute('''\n",
        "CREATE TABLE IF NOT EXISTS battles (\n",
        "    id INTEGER PRIMARY KEY AUTOINCREMENT,\n",
        "    hero_id TEXT NOT NULL,\n",
        "    villian_id TEXT NOT NULL,\n",
        "    outcome TEXT NOT NULL\n",
        ")\n",
        "''')\n",
        "\n",
        "print(\"battles table created!\")\n"
      ],
      "metadata": {
        "id": "HhtX64zw4N5l",
        "colab": {
          "base_uri": "https://localhost:8080/"
        },
        "outputId": "6046f3d1-f046-4422-c0c3-ee7f96ed7ac8"
      },
      "id": "HhtX64zw4N5l",
      "execution_count": null,
      "outputs": [
        {
          "output_type": "stream",
          "name": "stdout",
          "text": [
            "Database created and connected!\n",
            "Cursor created!\n",
            "Heroes table created!\n",
            "Villians table created!\n",
            "battles table created!\n"
          ]
        }
      ]
    },
    {
      "cell_type": "markdown",
      "id": "154b3c3a",
      "metadata": {
        "id": "154b3c3a"
      },
      "source": [
        "## Step 2: Import Data from CSV Files\n",
        "\n",
        "### Tasks:\n",
        "1. Download the provided CSV files.\n",
        "2. Upload them to Google Colab.\n",
        "3. Write a script to import data from these files into the appropriate tables.\n",
        "4. Verify that the data has been successfully inserted.\n",
        "\n",
        "✅ **Checkpoint:** Ensure that each table contains the expected data from the CSV files."
      ]
    },
    {
      "cell_type": "code",
      "source": [
        "#to make sure multiple copies of the data are not inserted\n",
        "cursor.execute(\"DROP TABLE IF EXISTS heroes\")\n",
        "cursor.execute(\"DROP TABLE IF EXISTS villains\")\n",
        "cursor.execute(\"DROP TABLE IF EXISTS battles\")\n",
        "connection.commit()\n",
        "\n",
        "#Importing data files to appropriate table\n",
        "import pandas as pd\n",
        "\n",
        "# Load data from CSV into a DataFrame\n",
        "df_heroes = pd.read_csv('heroes.csv')\n",
        "\n",
        "# Insert data from the DataFrame into the heroes table\n",
        "df_heroes.to_sql('heroes', connection, if_exists='replace', index=False)\n",
        "\n",
        "print(\"Data from CSV has been inserted into the heroes table.\")\n",
        "\n",
        "# Load data from CSV into a DataFrame\n",
        "df_villains = pd.read_csv('villains.csv')\n",
        "\n",
        "# Insert data from the DataFrame into the villains table\n",
        "df_villains.to_sql('villains', connection, if_exists='replace', index=False)\n",
        "\n",
        "print(\"Data from CSV has been inserted into the villains table.\")\n",
        "\n",
        "# Load data from CSV into a DataFrame\n",
        "df_battles = pd.read_csv('battles.csv')\n",
        "\n",
        "# Insert data from the DataFrame into the battles table\n",
        "df_battles.to_sql('battles', connection, if_exists='replace', index=False)\n",
        "\n",
        "print(\"Data from CSV has been inserted into the battles table.\")\n",
        "\n",
        "#Verify data is succesfully inserted\n",
        "cursor.execute(\"SELECT * FROM heroes\")\n",
        "rows = cursor.fetchall()\n",
        "print(\"Heroes data:\")\n",
        "for row in rows:\n",
        "    print(row)\n",
        "\n",
        "cursor.execute(\"SELECT * FROM villains\")\n",
        "rows = cursor.fetchall()\n",
        "print(\"villains data:\")\n",
        "for row in rows:\n",
        "    print(row)\n",
        "\n",
        "cursor.execute(\"SELECT * FROM battles\")\n",
        "rows = cursor.fetchall()\n",
        "print(\"battles data:\")\n",
        "for row in rows:\n",
        "    print(row)"
      ],
      "metadata": {
        "colab": {
          "base_uri": "https://localhost:8080/"
        },
        "id": "BnENPN3n58n9",
        "outputId": "464029dc-5378-4bbc-9fc4-8792ef51a42a"
      },
      "id": "BnENPN3n58n9",
      "execution_count": null,
      "outputs": [
        {
          "output_type": "stream",
          "name": "stdout",
          "text": [
            "Data from CSV has been inserted into the heroes table.\n",
            "Data from CSV has been inserted into the villains table.\n",
            "Data from CSV has been inserted into the battles table.\n",
            "Heroes data:\n",
            "(1, 'Spider-Man', 'Web-slinging', 'Avengers')\n",
            "(2, 'Iron Man', 'Powered Armor', 'Avengers')\n",
            "(3, 'Batman', 'Genius Detective', 'Justice League')\n",
            "(4, 'Superman', 'Super Strength', 'Justice League')\n",
            "(5, 'Thor', 'God of Thunder', 'Avengers')\n",
            "(6, 'Wonder Woman', 'Amazonian Strength', 'Justice League')\n",
            "(7, 'Black Panther', 'Enhanced Agility', 'Avengers')\n",
            "(8, 'The Flash', 'Super Speed', 'Justice League')\n",
            "(9, 'Hulk', 'Super Strength', 'Avengers')\n",
            "(10, 'Doctor Strange', 'Mystic Arts', 'Avengers')\n",
            "villains data:\n",
            "(1, 'Green Goblin', 'Terrorize New York')\n",
            "(2, 'Thanos', 'Collect all Infinity Stones')\n",
            "(3, 'Joker', 'Spread chaos in Gotham')\n",
            "(4, 'Lex Luthor', 'Defeat Superman')\n",
            "(5, 'Loki', 'Trick humanity into worshiping him')\n",
            "(6, 'Ultron', 'AI world domination')\n",
            "(7, 'Darkseid', 'Control the universe')\n",
            "(8, 'Venom', 'Consume Spider-Man')\n",
            "(9, 'Magneto', 'Mutant supremacy')\n",
            "(10, 'Red Skull', 'Revive Hydra')\n",
            "battles data:\n",
            "(1, 1, 10, 'Villain Wins')\n",
            "(2, 9, 3, 'Hero Wins')\n",
            "(3, 8, 1, 'Draw')\n",
            "(4, 5, 4, 'Villain Wins')\n",
            "(5, 1, 7, 'Hero Wins')\n",
            "(6, 2, 8, 'Villain Wins')\n",
            "(7, 9, 8, 'Hero Wins')\n",
            "(8, 3, 2, 'Hero Wins')\n",
            "(9, 7, 5, 'Hero Wins')\n",
            "(10, 3, 1, 'Draw')\n",
            "(11, 1, 8, 'Villain Wins')\n",
            "(12, 2, 1, 'Draw')\n",
            "(13, 8, 9, 'Hero Wins')\n",
            "(14, 8, 1, 'Draw')\n",
            "(15, 6, 10, 'Draw')\n",
            "(16, 1, 1, 'Villain Wins')\n",
            "(17, 8, 3, 'Draw')\n",
            "(18, 6, 3, 'Villain Wins')\n",
            "(19, 4, 8, 'Villain Wins')\n",
            "(20, 3, 4, 'Hero Wins')\n",
            "(21, 8, 1, 'Draw')\n",
            "(22, 4, 9, 'Draw')\n",
            "(23, 3, 9, 'Draw')\n",
            "(24, 8, 9, 'Villain Wins')\n",
            "(25, 2, 5, 'Draw')\n",
            "(26, 3, 7, 'Draw')\n",
            "(27, 10, 3, 'Draw')\n",
            "(28, 3, 8, 'Draw')\n",
            "(29, 3, 5, 'Hero Wins')\n",
            "(30, 5, 5, 'Hero Wins')\n"
          ]
        }
      ]
    },
    {
      "cell_type": "markdown",
      "id": "33548d9f",
      "metadata": {
        "id": "33548d9f"
      },
      "source": [
        "## Step 3: Querying the Database\n",
        "\n",
        "### Tasks:\n",
        "Write SQL queries to answer the following:\n",
        "1. Retrieve all superheroes and their powers.\n",
        "2. Find all battles where the hero won.\n",
        "3. List all villains and their evil plans.\n",
        "4. Determine which superhero has fought the most battles.\n",
        "\n",
        "✅ **Checkpoint:** Ensure that all queries return meaningful results from the database."
      ]
    },
    {
      "cell_type": "code",
      "source": [
        "#1 Retrieve all superheroes and their powers\n",
        "cursor.execute(\"SELECT name,power FROM heroes\")\n",
        "rows = cursor.fetchall()\n",
        "\n",
        "print(\"superheroes and their powers:\")\n",
        "for row in rows:\n",
        "    print(row)\n",
        "\n",
        "#2 Find all battles where the hero won\n",
        "cursor.execute(\"SELECT * FROM battles WHERE outcome = 'Hero Wins'\")\n",
        "hero_wins = cursor.fetchall()\n",
        "\n",
        "print(\"Battles Hero Won:\")\n",
        "for row in hero_wins:\n",
        "   print(row)\n",
        "\n",
        "#3 List all villains and their evil plans\n",
        "cursor.execute(\"SELECT name,evil_plan FROM villains\")\n",
        "rows = cursor.fetchall()\n",
        "\n",
        "print(\"villains and their evil plans:\")\n",
        "for row in rows:\n",
        "    print(row)\n",
        "\n",
        "#4 Determine which superhero has fought the most battles\n",
        "cursor.execute('''\n",
        "SELECT name,COUNT(hero_id) as battlecount FROM heroes\n",
        "LEFT JOIN battles on heroes.id=battles.hero_id\n",
        "GROUP BY hero_id\n",
        "ORDER BY battlecount DESC\n",
        "''')\n",
        "superhero = cursor.fetchone()[0]\n",
        "\n",
        "print(f\"Superhero who fought most battles: {superhero}\")"
      ],
      "metadata": {
        "colab": {
          "base_uri": "https://localhost:8080/"
        },
        "id": "YrFlY2P38lFB",
        "outputId": "1f2c5111-d321-47ac-e76e-044702881ae0"
      },
      "id": "YrFlY2P38lFB",
      "execution_count": null,
      "outputs": [
        {
          "output_type": "stream",
          "name": "stdout",
          "text": [
            "superheroes and their powers:\n",
            "('Spider-Man', 'Web-slinging')\n",
            "('Iron Man', 'Powered Armor')\n",
            "('Batman', 'Genius Detective')\n",
            "('Superman', 'Super Strength')\n",
            "('Thor', 'God of Thunder')\n",
            "('Wonder Woman', 'Amazonian Strength')\n",
            "('Black Panther', 'Enhanced Agility')\n",
            "('The Flash', 'Super Speed')\n",
            "('Hulk', 'Super Strength')\n",
            "('Doctor Strange', 'Mystic Arts')\n",
            "Battles Hero Won:\n",
            "(2, 9, 3, 'Hero Wins')\n",
            "(5, 1, 7, 'Hero Wins')\n",
            "(7, 9, 8, 'Hero Wins')\n",
            "(8, 3, 2, 'Hero Wins')\n",
            "(9, 7, 5, 'Hero Wins')\n",
            "(13, 8, 9, 'Hero Wins')\n",
            "(20, 3, 4, 'Hero Wins')\n",
            "(29, 3, 5, 'Hero Wins')\n",
            "(30, 5, 5, 'Hero Wins')\n",
            "villains and their evil plans:\n",
            "('Green Goblin', 'Terrorize New York')\n",
            "('Thanos', 'Collect all Infinity Stones')\n",
            "('Joker', 'Spread chaos in Gotham')\n",
            "('Lex Luthor', 'Defeat Superman')\n",
            "('Loki', 'Trick humanity into worshiping him')\n",
            "('Ultron', 'AI world domination')\n",
            "('Darkseid', 'Control the universe')\n",
            "('Venom', 'Consume Spider-Man')\n",
            "('Magneto', 'Mutant supremacy')\n",
            "('Red Skull', 'Revive Hydra')\n",
            "Superhero who fought most battles: Batman\n"
          ]
        }
      ]
    },
    {
      "cell_type": "markdown",
      "id": "de8bda94",
      "metadata": {
        "id": "de8bda94"
      },
      "source": [
        "## Step 4: Add a Custom Feature\n",
        "\n",
        "### Tasks:\n",
        "1. Design and implement an additional table related to superheroes or villains.\n",
        "2. Populate it with data.\n",
        "3. Write at least one query to retrieve meaningful insights from the new table.\n",
        "\n",
        "**Examples of Custom Features:**\n",
        "- Sidekicks for superheroes\n",
        "- Villain hideouts\n",
        "- Battle locations\n",
        "- Superhero equipment\n",
        "\n",
        "✅ **Checkpoint:** Ensure that the new table and queries function correctly."
      ]
    },
    {
      "cell_type": "code",
      "source": [
        "# Establish connection and create cursor\n",
        "connection = sqlite3.connect(\"superheroes.db\")  # Change database name if needed\n",
        "cursor = connection.cursor()\n",
        "\n",
        "# 1. Design and implement an additional table related to superheroes or villains\n",
        "cursor.execute(\"DROP TABLE IF EXISTS hero_residence\")\n",
        "connection.commit()\n",
        "\n",
        "cursor.execute('''\n",
        "CREATE TABLE IF NOT EXISTS hero_residence (\n",
        "    id INTEGER PRIMARY KEY AUTOINCREMENT,\n",
        "    hero_id INTEGER,\n",
        "    city_residence TEXT NOT NULL,\n",
        "    comic_residence TEXT NOT NULL\n",
        ")\n",
        "''')\n",
        "\n",
        "print(\"hero_residence table created!\")\n",
        "\n",
        "# 2. Populate it with data\n",
        "residence_data = [\n",
        "    (1, 'New York City', 'Marvel'),\n",
        "    (2, 'New York City', 'Marvel'),\n",
        "    (3, 'Gotham City', 'DC'),\n",
        "    (4, 'Metropolis', 'DC'),\n",
        "    (5, 'Asgard', 'Marvel'),\n",
        "    (6, 'Themyscira', 'DC'),\n",
        "    (7, 'Wakanda', 'Marvel'),\n",
        "    (8, 'Central City', 'DC'),\n",
        "    (9, 'New York City', 'Marvel'),\n",
        "    (10, 'New York City', 'Marvel')\n",
        "]\n",
        "\n",
        "cursor.executemany('''\n",
        "INSERT INTO hero_residence (hero_id, city_residence, comic_residence) VALUES (?, ?, ?)\n",
        "''', residence_data)\n",
        "connection.commit()\n",
        "\n",
        "print(\"Data inserted into the hero_residence table!\")\n",
        "\n",
        "# 3. Write a query to retrieve meaningful insights from the new table\n",
        "# How many heroes are there in each city?\n",
        "cursor.execute('''\n",
        "SELECT city_residence, COUNT(hero_id) AS number_of_heroes\n",
        "FROM hero_residence\n",
        "GROUP BY city_residence\n",
        "''')\n",
        "\n",
        "rows = cursor.fetchall()\n",
        "\n",
        "print(\"Hero count per city:\")\n",
        "for row in rows:\n",
        "    print(row)\n",
        "\n",
        "# Close connection\n",
        "connection.close()"
      ],
      "metadata": {
        "id": "6BmVHl3nDnfC",
        "colab": {
          "base_uri": "https://localhost:8080/"
        },
        "outputId": "d597464d-2563-446c-a84a-78650fe4f7bc"
      },
      "id": "6BmVHl3nDnfC",
      "execution_count": 5,
      "outputs": [
        {
          "output_type": "stream",
          "name": "stdout",
          "text": [
            "hero_residence table created!\n",
            "Data inserted into the hero_residence table!\n",
            "Hero count per city:\n",
            "('Asgard', 1)\n",
            "('Central City', 1)\n",
            "('Gotham City', 1)\n",
            "('Metropolis', 1)\n",
            "('New York City', 4)\n",
            "('Themyscira', 1)\n",
            "('Wakanda', 1)\n"
          ]
        }
      ]
    },
    {
      "cell_type": "markdown",
      "id": "9bf43fe6",
      "metadata": {
        "id": "9bf43fe6"
      },
      "source": [
        "## Bonus Challenge (+5 Points)\n",
        "\n",
        "### Tasks:\n",
        "1. Enhance your project by adding a visual or interactive component.\n",
        "\n",
        "**Options:**\n",
        "- Visualize battles using Matplotlib (e.g., a bar chart showing how many battles each superhero has fought).\n",
        "- Make it interactive (e.g., allow users to input a superhero name and display their battles).\n",
        "\n",
        "✅ **Checkpoint:** If attempting the bonus, ensure that your visualization or interactive component works correctly."
      ]
    },
    {
      "cell_type": "code",
      "source": [
        "# Establish connection and create cursor\n",
        "connection = sqlite3.connect(\"superheroes.db\")\n",
        "cursor = connection.cursor()\n",
        "\n",
        "# Create a new table for superhero battles\n",
        "cursor.execute(\"DROP TABLE IF EXISTS hero_battles\")\n",
        "connection.commit()\n",
        "\n",
        "cursor.execute('''\n",
        "CREATE TABLE IF NOT EXISTS hero_battles (\n",
        "    hero_id INTEGER PRIMARY KEY,\n",
        "    hero_name TEXT NOT NULL,\n",
        "    battles_fought INTEGER NOT NULL\n",
        ")\n",
        "''')\n",
        "\n",
        "print(\"hero_battles table created!\")\n",
        "\n",
        "# Populate it with sample data\n",
        "battle_data = [\n",
        "    (1, 'Spider-Man', 50),\n",
        "    (2, 'Iron Man', 40),\n",
        "    (3, 'Batman', 60),\n",
        "    (4, 'Superman', 70),\n",
        "    (5, 'Thor', 55),\n",
        "    (6, 'Wonder Woman', 45),\n",
        "    (7, 'Black Panther', 35),\n",
        "    (8, 'The Flash', 65),\n",
        "    (9, 'Doctor Strange', 30),\n",
        "    (10, 'Captain America', 58)\n",
        "]\n",
        "\n",
        "cursor.executemany('''\n",
        "INSERT INTO hero_battles (hero_id, hero_name, battles_fought) VALUES (?, ?, ?)\n",
        "''', battle_data)\n",
        "connection.commit()\n",
        "\n",
        "print(\"Data inserted into hero_battles table!\")\n",
        "\n",
        "# Retrieve data for visualization\n",
        "cursor.execute('''\n",
        "SELECT hero_name, battles_fought FROM hero_battles\n",
        "''')\n",
        "\n",
        "data = cursor.fetchall()\n",
        "\n",
        "# Close database connection\n",
        "connection.close()\n",
        "\n",
        "# Extract names and battle counts for plotting\n",
        "heroes, battles = zip(*data)\n",
        "\n",
        "# Create bar chart\n",
        "plt.figure(figsize=(10, 6))\n",
        "plt.barh(heroes, battles, color='skyblue')\n",
        "plt.xlabel(\"Number of Battles\")\n",
        "plt.ylabel(\"Superheroes\")\n",
        "plt.title(\"Number of Battles Fought by Superheroes\")\n",
        "plt.gca().invert_yaxis()  # Flip the order to have the most battles at the top\n",
        "plt.show()\n"
      ],
      "metadata": {
        "id": "bVNexs54onpz",
        "colab": {
          "base_uri": "https://localhost:8080/",
          "height": 600
        },
        "outputId": "f8d2cffd-8189-4105-fb2c-bc65791c056d"
      },
      "id": "bVNexs54onpz",
      "execution_count": 6,
      "outputs": [
        {
          "output_type": "stream",
          "name": "stdout",
          "text": [
            "hero_battles table created!\n",
            "Data inserted into hero_battles table!\n"
          ]
        },
        {
          "output_type": "display_data",
          "data": {
            "text/plain": [
              "<Figure size 1000x600 with 1 Axes>"
            ],
            "image/png": "[encoded data removed]"
          },
          "metadata": {}
        }
      ]
    },
    {
      "cell_type": "markdown",
      "id": "89f56c05",
      "metadata": {
        "id": "89f56c05"
      },
      "source": [
        "## Submission Guidelines\n",
        "\n",
        "Each group must submit a **Google Colab Notebook (.ipynb)** containing:\n",
        "- ✅ **Database schema (DDL)**\n",
        "- ✅ **CSV imports & data insertion (DML)**\n",
        "- ✅ **SQL queries & results**\n",
        "- ✅ **Custom feature (bonus if applicable)**"
      ]
    },
    {
      "cell_type": "markdown",
      "id": "61477c9b",
      "metadata": {
        "id": "61477c9b"
      },
      "source": [
        "## Grading Criteria (Total: 25 Points)\n",
        "\n",
        "| Section                 | Points |\n",
        "|-------------------------|--------|\n",
        "| Database Setup          | 5      |\n",
        "| Data Importing         | 10     |\n",
        "| Querying the Data      | 10     |\n",
        "| Extra Feature          | 5      |\n",
        "| Bonus Challenge (Optional) | +5  |"
      ]
    },
    {
      "cell_type": "markdown",
      "id": "92bf6839",
      "metadata": {
        "id": "92bf6839"
      },
      "source": [
        "### Final Notes:\n",
        "- Be **creative** when designing superheroes and villains.\n",
        "- **Comment your code** to explain its functionality.\n",
        "- **Have fun** building your superhero universe!"
      ]
    }
  ],
  "metadata": {
    "colab": {
      "provenance": [],
      "include_colab_link": true
    },
    "language_info": {
      "name": "python"
    },
    "kernelspec": {
      "name": "python3",
      "display_name": "Python 3"
    }
  },
  "nbformat": 4,
  "nbformat_minor": 5
}